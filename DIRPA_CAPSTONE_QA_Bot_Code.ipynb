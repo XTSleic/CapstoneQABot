{
 "cells": [
  {
   "cell_type": "markdown",
   "metadata": {},
   "source": [
    "# CAPSTONE PROJCECT—Text Analysis"
   ]
  },
  {
   "cell_type": "markdown",
   "metadata": {},
   "source": [
    "---"
   ]
  },
  {
   "cell_type": "code",
   "execution_count": 1,
   "metadata": {
    "scrolled": true
   },
   "outputs": [],
   "source": [
    "# Import package\n",
    "#!pip install beautifulsoup4\n",
    "#!pip install google\n",
    "#!pip install nbinteract\n",
    "import os\n",
    "import re \n",
    "import requests\n",
    "import numpy as np\n",
    "from termcolor import colored\n",
    "from transformers import AutoModelForQuestionAnswering, AutoTokenizer, pipeline\n",
    "from bs4 import *\n",
    "from googlesearch import search"
   ]
  },
  {
   "cell_type": "code",
   "execution_count": 2,
   "metadata": {},
   "outputs": [
    {
     "name": "stdout",
     "output_type": "stream",
     "text": [
      "Connecting to wss://anvil.works/uplink\n",
      "Anvil websocket open\n",
      "Connected to \"Published\" as SERVER\n"
     ]
    }
   ],
   "source": [
    "import anvil.server\n",
    "\n",
    "anvil.server.connect(\"server_7QGV67FAA6TXHGRR5QIXGBMI-KX2TWHW6MPGCG7FD\")"
   ]
  },
  {
   "cell_type": "markdown",
   "metadata": {},
   "source": [
    "---\n",
    "## Open-Domain QA Model"
   ]
  },
  {
   "cell_type": "code",
   "execution_count": 3,
   "metadata": {},
   "outputs": [],
   "source": [
    "@anvil.server.callable\n",
    "# Define Open-domain QA model function\n",
    "def get_answer(question):\n",
    "    \n",
    "#-------------------------------------------------------------------------------------\n",
    "    # To search on google\n",
    "    urls = [] \n",
    "    for j in search(question, tld=\"co.in\", num=10, stop=10, pause=2):\n",
    "        urls.append(j)\n",
    "        \n",
    "#-------------------------------------------------------------------------------------        \n",
    "    # Get conext of each url\n",
    "\n",
    "    contexts = []\n",
    "    for i in range(len(urls)):\n",
    "        url = urls[i]\n",
    "\n",
    "        # Fetch URL Content\n",
    "        r = requests.get(url)\n",
    "        \n",
    "        # Get body content\n",
    "        soup = BeautifulSoup(r.text,'html.parser').select('body')[0]\n",
    "\n",
    "        # Initialize variable\n",
    "        paragraphs = []\n",
    "\n",
    "        # Iterate through all tags\n",
    "        for tag in soup.find_all():\n",
    "            # Check each tag name\n",
    "            # For Paragraph use p tag\n",
    "            if tag.name==\"p\":\n",
    "\n",
    "                # use text for fetch the content inside p tag\n",
    "                paragraphs.append(tag.text)\n",
    "\n",
    "        context = ''\n",
    "        for i in range(len(paragraphs)):\n",
    "            context = context + paragraphs[i]\n",
    "\n",
    "        contexts.append(context)\n",
    "            \n",
    "            \n",
    "#-------------------------------------------------------------------------------------        \n",
    "        # Get url with max scores answer\n",
    "    scores = []\n",
    "    for c in range(len(urls)):\n",
    "        context = contexts[c]\n",
    "        model_name = \"thatdramebaazguy/roberta-base-squad\"\n",
    "        nlp = pipeline('question-answering', model=model_name, tokenizer=model_name)\n",
    "        QA_input = {\n",
    "            'question': question,\n",
    "            'context': context\n",
    "        }\n",
    "        res = nlp(QA_input)\n",
    "        score = res.get(\"score\")\n",
    "        scores.append(score)\n",
    "    max_scores = max(scores)\n",
    "    max_index = scores.index(max_scores)\n",
    "    target_url = urls[max_index]        \n",
    "\n",
    "#-------------------------------------------------------------------------------------        \n",
    "        # Get predictions\n",
    "    context = contexts[max_index]\n",
    "    model_name = \"thatdramebaazguy/roberta-base-squad\"\n",
    "    nlp = pipeline('question-answering', model=model_name, tokenizer=model_name)\n",
    "    QA_input = {\n",
    "        'question': question,\n",
    "        'context': context\n",
    "    }\n",
    "    res = nlp(QA_input)\n",
    "\n",
    "    # Locate answer \n",
    "    s_start = res.get('start')-300\n",
    "    if s_start < 0:\n",
    "        s_start = 0\n",
    "    #sentence = '...'+ context[s_start:res.get('start')] + colored(res.get(\"answer\"), 'green', attrs=['reverse', 'blink']) + context[res.get('end'):res.get('end')+300]+'...'\n",
    "    forward_context = '...'+ context[s_start:res.get('start')]\n",
    "    back_context = context[res.get('end'):res.get('end')+300]+'...'\n",
    "    answer = res.get(\"answer\")\n",
    "    score = res.get(\"score\")\n",
    "    #print(f'CONTEXT: {sentence} \\nQESTION: {question} \\nANSWER: {res.get(\"answer\")} \\nSCORE: {res.get(\"score\")} \\nURL: {target_url}')\n",
    "    print(f'ANSWER: {res.get(\"answer\")}')\n",
    "    return forward_context, back_context, answer, score, target_url\n",
    "\n",
    "\n"
   ]
  },
  {
   "cell_type": "markdown",
   "metadata": {},
   "source": [
    "---\n",
    "## Closed-Domain QA Model"
   ]
  },
  {
   "cell_type": "code",
   "execution_count": 4,
   "metadata": {},
   "outputs": [
    {
     "name": "stderr",
     "output_type": "stream",
     "text": [
      "/Users/chenlei/opt/anaconda3/lib/python3.8/site-packages/numpy/core/_asarray.py:102: VisibleDeprecationWarning: Creating an ndarray from ragged nested sequences (which is a list-or-tuple of lists-or-tuples-or ndarrays with different lengths or shapes) is deprecated. If you meant to do this, you must specify 'dtype=object' when creating the ndarray.\n",
      "  return array(a, dtype, copy=False, order=order)\n"
     ]
    },
    {
     "name": "stdout",
     "output_type": "stream",
     "text": [
      "ANSWER: Heat\n",
      "ANSWER: Heat\n",
      "ANSWER: Heat\n",
      "ANSWER: Miami\n"
     ]
    }
   ],
   "source": [
    "@anvil.server.callable\n",
    "# Define Closed-domain QA model function\n",
    "def get_answer2(context, question):\n",
    "    model_name = \"thatdramebaazguy/roberta-base-squad\"\n",
    "    nlp = pipeline('question-answering', model=model_name, tokenizer=model_name)\n",
    "    QA_input = {\n",
    "        'question': question,\n",
    "        'context': context\n",
    "    }\n",
    "    res = nlp(QA_input)\n",
    "    \n",
    "    s_start = res.get('start')-300\n",
    "    if s_start < 0:\n",
    "        s_start = 0\n",
    "    forward_context = '...'+ context[s_start:res.get('start')]\n",
    "    back_context = context[res.get('end'):res.get('end')+300]+'...'\n",
    "    answer = res.get(\"answer\")\n",
    "    score = res.get(\"score\")\n",
    "    print(f'ANSWER: {res.get(\"answer\")}')\n",
    "    return forward_context, back_context, answer, score"
   ]
  },
  {
   "cell_type": "code",
   "execution_count": null,
   "metadata": {},
   "outputs": [],
   "source": []
  }
 ],
 "metadata": {
  "kernelspec": {
   "display_name": "Python 3 (ipykernel)",
   "language": "python",
   "name": "python3"
  },
  "language_info": {
   "codemirror_mode": {
    "name": "ipython",
    "version": 3
   },
   "file_extension": ".py",
   "mimetype": "text/x-python",
   "name": "python",
   "nbconvert_exporter": "python",
   "pygments_lexer": "ipython3",
   "version": "3.8.12"
  }
 },
 "nbformat": 4,
 "nbformat_minor": 4
}
